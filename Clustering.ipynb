{
  "nbformat": 4,
  "nbformat_minor": 0,
  "metadata": {
    "colab": {
      "name": "Clustering.ipynb",
      "provenance": [],
      "collapsed_sections": [
        "R2XsSANxlGSL",
        "0Y1RUBIblKrm",
        "GqQUDh8mcA2i",
        "BgpNksxWsyA4",
        "H0aHRH7uoK7x",
        "9iYdA46iqm1E"
      ],
      "include_colab_link": true
    },
    "kernelspec": {
      "name": "python3",
      "display_name": "Python 3"
    }
  },
  "cells": [
    {
      "cell_type": "markdown",
      "metadata": {
        "id": "view-in-github",
        "colab_type": "text"
      },
      "source": [
        "<a href=\"https://colab.research.google.com/github/daffamaul30/K-Means/blob/master/Clustering.ipynb\" target=\"_parent\"><img src=\"https://colab.research.google.com/assets/colab-badge.svg\" alt=\"Open In Colab\"/></a>"
      ]
    },
    {
      "cell_type": "code",
      "metadata": {
        "id": "Jn_AB_2lT1Et",
        "colab_type": "code",
        "colab": {}
      },
      "source": [
        "import pandas as pd\n",
        "import numpy as np\n",
        "import seaborn as sns\n",
        "import matplotlib as mpl\n",
        "import matplotlib.pyplot as plt\n",
        "import plotly.express as px\n",
        "import seaborn as sns\n",
        "from scipy.spatial import distance"
      ],
      "execution_count": 0,
      "outputs": []
    },
    {
      "cell_type": "markdown",
      "metadata": {
        "id": "L9bkORT1_kWA",
        "colab_type": "text"
      },
      "source": [
        "##Mount & Read File From Drive\n",
        "\n",
        "Bisa dirubah jika tidak ingin membaca file dari drive dengan :\n",
        "\n",
        "\n",
        "dataset = pd.read_csv(\"path or filename(jika dalam satu folder)\")"
      ]
    },
    {
      "cell_type": "code",
      "metadata": {
        "id": "AHHT1KAtUCIm",
        "colab_type": "code",
        "colab": {}
      },
      "source": [
        "from google.colab import drive #mount drive\n",
        "drive.mount('/content/gdrive')\n",
        "path = 'gdrive/My Drive/Colab Notebooks/Dataset.csv'\n",
        "dataset = pd.read_csv(path)"
      ],
      "execution_count": 0,
      "outputs": []
    },
    {
      "cell_type": "markdown",
      "metadata": {
        "id": "R2XsSANxlGSL",
        "colab_type": "text"
      },
      "source": [
        "## **Eksplorasi Data & Data Preparation**"
      ]
    },
    {
      "cell_type": "code",
      "metadata": {
        "id": "_g7XzyuxkWc-",
        "colab_type": "code",
        "colab": {}
      },
      "source": [
        "dataset = dataset[['height_cm','weight_kg']]"
      ],
      "execution_count": 0,
      "outputs": []
    },
    {
      "cell_type": "code",
      "metadata": {
        "id": "DIGC9F42UKwb",
        "colab_type": "code",
        "outputId": "68c9e4a1-e6fc-48d2-88c7-bbdc09accf67",
        "colab": {
          "base_uri": "https://localhost:8080/",
          "height": 194
        }
      },
      "source": [
        "dataset.head()"
      ],
      "execution_count": 0,
      "outputs": [
        {
          "output_type": "execute_result",
          "data": {
            "text/html": [
              "<div>\n",
              "<style scoped>\n",
              "    .dataframe tbody tr th:only-of-type {\n",
              "        vertical-align: middle;\n",
              "    }\n",
              "\n",
              "    .dataframe tbody tr th {\n",
              "        vertical-align: top;\n",
              "    }\n",
              "\n",
              "    .dataframe thead th {\n",
              "        text-align: right;\n",
              "    }\n",
              "</style>\n",
              "<table border=\"1\" class=\"dataframe\">\n",
              "  <thead>\n",
              "    <tr style=\"text-align: right;\">\n",
              "      <th></th>\n",
              "      <th>height_cm</th>\n",
              "      <th>weight_kg</th>\n",
              "    </tr>\n",
              "  </thead>\n",
              "  <tbody>\n",
              "    <tr>\n",
              "      <th>0</th>\n",
              "      <td>170</td>\n",
              "      <td>72</td>\n",
              "    </tr>\n",
              "    <tr>\n",
              "      <th>1</th>\n",
              "      <td>187</td>\n",
              "      <td>83</td>\n",
              "    </tr>\n",
              "    <tr>\n",
              "      <th>2</th>\n",
              "      <td>175</td>\n",
              "      <td>68</td>\n",
              "    </tr>\n",
              "    <tr>\n",
              "      <th>3</th>\n",
              "      <td>188</td>\n",
              "      <td>87</td>\n",
              "    </tr>\n",
              "    <tr>\n",
              "      <th>4</th>\n",
              "      <td>175</td>\n",
              "      <td>74</td>\n",
              "    </tr>\n",
              "  </tbody>\n",
              "</table>\n",
              "</div>"
            ],
            "text/plain": [
              "   height_cm  weight_kg\n",
              "0        170         72\n",
              "1        187         83\n",
              "2        175         68\n",
              "3        188         87\n",
              "4        175         74"
            ]
          },
          "metadata": {
            "tags": []
          },
          "execution_count": 4
        }
      ]
    },
    {
      "cell_type": "markdown",
      "metadata": {
        "id": "E6u_E0X6pZ6F",
        "colab_type": "text"
      },
      "source": [
        "1. Melihat dimensi data"
      ]
    },
    {
      "cell_type": "code",
      "metadata": {
        "id": "Gpylk8CSVxnP",
        "colab_type": "code",
        "outputId": "3b74a69e-2828-459e-f9e2-a13e564fb8e4",
        "colab": {
          "base_uri": "https://localhost:8080/",
          "height": 35
        }
      },
      "source": [
        "dataset.shape"
      ],
      "execution_count": 0,
      "outputs": [
        {
          "output_type": "execute_result",
          "data": {
            "text/plain": [
              "(18278, 2)"
            ]
          },
          "metadata": {
            "tags": []
          },
          "execution_count": 5
        }
      ]
    },
    {
      "cell_type": "markdown",
      "metadata": {
        "id": "of_V-7wtpcyX",
        "colab_type": "text"
      },
      "source": [
        "2. Melihat tipe data dari masing-masing kolom"
      ]
    },
    {
      "cell_type": "code",
      "metadata": {
        "id": "qkPtIDKAWZgv",
        "colab_type": "code",
        "outputId": "6687f192-55c7-46d8-c56e-72271fdecd13",
        "colab": {
          "base_uri": "https://localhost:8080/",
          "height": 70
        }
      },
      "source": [
        "dataset.dtypes"
      ],
      "execution_count": 0,
      "outputs": [
        {
          "output_type": "execute_result",
          "data": {
            "text/plain": [
              "height_cm    int64\n",
              "weight_kg    int64\n",
              "dtype: object"
            ]
          },
          "metadata": {
            "tags": []
          },
          "execution_count": 6
        }
      ]
    },
    {
      "cell_type": "markdown",
      "metadata": {
        "id": "9EDxM-woQzpS",
        "colab_type": "text"
      },
      "source": [
        "3. Missing Value"
      ]
    },
    {
      "cell_type": "code",
      "metadata": {
        "id": "ogyNNhrBxKLe",
        "colab_type": "code",
        "outputId": "d8c9349d-1322-4913-a13d-60ce7c48cabf",
        "colab": {
          "base_uri": "https://localhost:8080/",
          "height": 282
        }
      },
      "source": [
        "dataset.describe()"
      ],
      "execution_count": 0,
      "outputs": [
        {
          "output_type": "execute_result",
          "data": {
            "text/html": [
              "<div>\n",
              "<style scoped>\n",
              "    .dataframe tbody tr th:only-of-type {\n",
              "        vertical-align: middle;\n",
              "    }\n",
              "\n",
              "    .dataframe tbody tr th {\n",
              "        vertical-align: top;\n",
              "    }\n",
              "\n",
              "    .dataframe thead th {\n",
              "        text-align: right;\n",
              "    }\n",
              "</style>\n",
              "<table border=\"1\" class=\"dataframe\">\n",
              "  <thead>\n",
              "    <tr style=\"text-align: right;\">\n",
              "      <th></th>\n",
              "      <th>height_cm</th>\n",
              "      <th>weight_kg</th>\n",
              "    </tr>\n",
              "  </thead>\n",
              "  <tbody>\n",
              "    <tr>\n",
              "      <th>count</th>\n",
              "      <td>18278.000000</td>\n",
              "      <td>18278.000000</td>\n",
              "    </tr>\n",
              "    <tr>\n",
              "      <th>mean</th>\n",
              "      <td>181.362184</td>\n",
              "      <td>75.276343</td>\n",
              "    </tr>\n",
              "    <tr>\n",
              "      <th>std</th>\n",
              "      <td>6.756961</td>\n",
              "      <td>7.047744</td>\n",
              "    </tr>\n",
              "    <tr>\n",
              "      <th>min</th>\n",
              "      <td>156.000000</td>\n",
              "      <td>50.000000</td>\n",
              "    </tr>\n",
              "    <tr>\n",
              "      <th>25%</th>\n",
              "      <td>177.000000</td>\n",
              "      <td>70.000000</td>\n",
              "    </tr>\n",
              "    <tr>\n",
              "      <th>50%</th>\n",
              "      <td>181.000000</td>\n",
              "      <td>75.000000</td>\n",
              "    </tr>\n",
              "    <tr>\n",
              "      <th>75%</th>\n",
              "      <td>186.000000</td>\n",
              "      <td>80.000000</td>\n",
              "    </tr>\n",
              "    <tr>\n",
              "      <th>max</th>\n",
              "      <td>205.000000</td>\n",
              "      <td>110.000000</td>\n",
              "    </tr>\n",
              "  </tbody>\n",
              "</table>\n",
              "</div>"
            ],
            "text/plain": [
              "          height_cm     weight_kg\n",
              "count  18278.000000  18278.000000\n",
              "mean     181.362184     75.276343\n",
              "std        6.756961      7.047744\n",
              "min      156.000000     50.000000\n",
              "25%      177.000000     70.000000\n",
              "50%      181.000000     75.000000\n",
              "75%      186.000000     80.000000\n",
              "max      205.000000    110.000000"
            ]
          },
          "metadata": {
            "tags": []
          },
          "execution_count": 7
        }
      ]
    },
    {
      "cell_type": "code",
      "metadata": {
        "id": "1Buc5cY7CYT6",
        "colab_type": "code",
        "outputId": "af689a06-a436-42ce-8656-b5c9ef771438",
        "colab": {
          "base_uri": "https://localhost:8080/",
          "height": 70
        }
      },
      "source": [
        "print(dataset.isnull().sum())"
      ],
      "execution_count": 0,
      "outputs": [
        {
          "output_type": "stream",
          "text": [
            "height_cm    0\n",
            "weight_kg    0\n",
            "dtype: int64\n"
          ],
          "name": "stdout"
        }
      ]
    },
    {
      "cell_type": "markdown",
      "metadata": {
        "id": "uvOHxWP-tXEA",
        "colab_type": "text"
      },
      "source": [
        "tidak ada missing value"
      ]
    },
    {
      "cell_type": "markdown",
      "metadata": {
        "id": "9NCz_g2Cnb9g",
        "colab_type": "text"
      },
      "source": [
        "4. Outlier"
      ]
    },
    {
      "cell_type": "code",
      "metadata": {
        "id": "65NKbVdCPA9t",
        "colab_type": "code",
        "outputId": "5f251d2e-d5d1-4d9e-e667-715c70b49645",
        "colab": {
          "base_uri": "https://localhost:8080/",
          "height": 263
        }
      },
      "source": [
        "mpl.rcParams['figure.dpi'] = 70\n",
        "plt.figure(figsize=(60, 60))\n",
        "f, axes = plt.subplots(1, 2)\n",
        "sns.boxplot(y=dataset[\"weight_kg\"], ax=axes[0])\n",
        "sns.boxplot(y=dataset[\"height_cm\"], ax=axes[1])\n",
        "plt.subplots_adjust(wspace=1)\n",
        "\n",
        "# dataset.plot(kind='box', subplots=True, layout=(1,9), sharex=False, sharey=False)\n",
        "# # plt.xticks(rotation=90)\n",
        "# plt.show()"
      ],
      "execution_count": 0,
      "outputs": [
        {
          "output_type": "display_data",
          "data": {
            "text/plain": [
              "<Figure size 4200x4200 with 0 Axes>"
            ]
          },
          "metadata": {
            "tags": []
          }
        },
        {
          "output_type": "display_data",
          "data": {
            "image/png": "[encoded data removed]",
            "text/plain": [
              "<Figure size 420x280 with 2 Axes>"
            ]
          },
          "metadata": {
            "tags": [],
            "needs_background": "light"
          }
        }
      ]
    },
    {
      "cell_type": "markdown",
      "metadata": {
        "id": "brnKqNWDPSKm",
        "colab_type": "text"
      },
      "source": [
        "outlier ada, tapi masih termasuk data yang wajar. nilai outlier diambil dari quartil, tapi bukan berarti data yang termasuk outlier itu tidak mungkin."
      ]
    },
    {
      "cell_type": "markdown",
      "metadata": {
        "id": "0Y1RUBIblKrm",
        "colab_type": "text"
      },
      "source": [
        "## **Pemodelan**"
      ]
    },
    {
      "cell_type": "markdown",
      "metadata": {
        "id": "45gt5126mUlH",
        "colab_type": "text"
      },
      "source": [
        "1. Penambahan kolom cluster untuk memudahkan"
      ]
    },
    {
      "cell_type": "code",
      "metadata": {
        "id": "SgMDF0NRA5J_",
        "colab_type": "code",
        "colab": {}
      },
      "source": [
        "dataset = pd.DataFrame(dataset, columns=['height_cm', 'weight_kg', 'cluster'])\n",
        "data = dataset.copy()\n",
        "#membuat kolom cluster yang diisi dengan -1\n",
        "temp = []\n",
        "for i in range(len(dataset['height_cm'])):\n",
        "    temp.append(-1)\n",
        "    \n",
        "dataset['cluster'] = temp"
      ],
      "execution_count": 0,
      "outputs": []
    },
    {
      "cell_type": "markdown",
      "metadata": {
        "id": "OTx3u-UOmZn5",
        "colab_type": "text"
      },
      "source": [
        "2. visualisasi data"
      ]
    },
    {
      "cell_type": "code",
      "metadata": {
        "id": "nAyppId3U20G",
        "colab_type": "code",
        "outputId": "f6c54d21-c404-4c70-a444-72e73f305637",
        "colab": {
          "base_uri": "https://localhost:8080/",
          "height": 292
        }
      },
      "source": [
        "sns.scatterplot(x='height_cm', y='weight_kg', data=dataset)"
      ],
      "execution_count": 0,
      "outputs": [
        {
          "output_type": "execute_result",
          "data": {
            "text/plain": [
              "<matplotlib.axes._subplots.AxesSubplot at 0x7fb385fa82b0>"
            ]
          },
          "metadata": {
            "tags": []
          },
          "execution_count": 11
        },
        {
          "output_type": "display_data",
          "data": {
            "image/png": "[encoded data removed]",
            "text/plain": [
              "<Figure size 420x280 with 1 Axes>"
            ]
          },
          "metadata": {
            "tags": [],
            "needs_background": "light"
          }
        }
      ]
    },
    {
      "cell_type": "markdown",
      "metadata": {
        "id": "hG7uemceBAb7",
        "colab_type": "text"
      },
      "source": [
        "3. Pembuatan centroid dengan K = 3"
      ]
    },
    {
      "cell_type": "code",
      "metadata": {
        "id": "89o4_W6WZ4KK",
        "colab_type": "code",
        "outputId": "e09d6c40-30bd-498b-ea40-084b78d010c8",
        "colab": {
          "base_uri": "https://localhost:8080/",
          "height": 135
        }
      },
      "source": [
        "centro = [\n",
        "    [0, 0, '0'],\n",
        "    [0, 0, '1'],\n",
        "    [0, 0, '2'],\n",
        "]\n",
        "# kita buat menjadi dataframe\n",
        "centroid = pd.DataFrame(centro, columns=['height_cm', 'weight_kg', 'cluster'])\n",
        "\n",
        "height_cm = []\n",
        "weight_kg = []\n",
        "x0 = np.random.randint(min(dataset['height_cm']),max(dataset['height_cm']))\n",
        "y0 = np.random.randint(min(dataset['weight_kg']),max(dataset['weight_kg']))\n",
        "x1 = np.random.randint(min(dataset['height_cm']),max(dataset['height_cm']))\n",
        "y1 = np.random.randint(min(dataset['weight_kg']),max(dataset['weight_kg']))\n",
        "x2 = np.random.randint(min(dataset['height_cm']),max(dataset['height_cm']))\n",
        "y2 = np.random.randint(min(dataset['weight_kg']),max(dataset['weight_kg']))\n",
        "\n",
        "height_cm.append(x0)\n",
        "height_cm.append(x1)\n",
        "height_cm.append(x2)\n",
        "weight_kg.append(y0)\n",
        "weight_kg.append(y1)\n",
        "weight_kg.append(y2)\n",
        "\n",
        "centroid['height_cm'] = height_cm\n",
        "centroid['weight_kg'] = weight_kg\n",
        "centroid"
      ],
      "execution_count": 0,
      "outputs": [
        {
          "output_type": "execute_result",
          "data": {
            "text/html": [
              "<div>\n",
              "<style scoped>\n",
              "    .dataframe tbody tr th:only-of-type {\n",
              "        vertical-align: middle;\n",
              "    }\n",
              "\n",
              "    .dataframe tbody tr th {\n",
              "        vertical-align: top;\n",
              "    }\n",
              "\n",
              "    .dataframe thead th {\n",
              "        text-align: right;\n",
              "    }\n",
              "</style>\n",
              "<table border=\"1\" class=\"dataframe\">\n",
              "  <thead>\n",
              "    <tr style=\"text-align: right;\">\n",
              "      <th></th>\n",
              "      <th>height_cm</th>\n",
              "      <th>weight_kg</th>\n",
              "      <th>cluster</th>\n",
              "    </tr>\n",
              "  </thead>\n",
              "  <tbody>\n",
              "    <tr>\n",
              "      <th>0</th>\n",
              "      <td>176</td>\n",
              "      <td>101</td>\n",
              "      <td>0</td>\n",
              "    </tr>\n",
              "    <tr>\n",
              "      <th>1</th>\n",
              "      <td>158</td>\n",
              "      <td>60</td>\n",
              "      <td>1</td>\n",
              "    </tr>\n",
              "    <tr>\n",
              "      <th>2</th>\n",
              "      <td>190</td>\n",
              "      <td>78</td>\n",
              "      <td>2</td>\n",
              "    </tr>\n",
              "  </tbody>\n",
              "</table>\n",
              "</div>"
            ],
            "text/plain": [
              "   height_cm  weight_kg cluster\n",
              "0        176        101       0\n",
              "1        158         60       1\n",
              "2        190         78       2"
            ]
          },
          "metadata": {
            "tags": []
          },
          "execution_count": 12
        }
      ]
    },
    {
      "cell_type": "markdown",
      "metadata": {
        "id": "I3wLrrVj8VV5",
        "colab_type": "text"
      },
      "source": [
        "penentuan centroid awal mempengaruhi hasil akhir clustering"
      ]
    },
    {
      "cell_type": "markdown",
      "metadata": {
        "id": "xVACvErPBFxS",
        "colab_type": "text"
      },
      "source": [
        "4. Memasukkan centroid sesuai titiknya"
      ]
    },
    {
      "cell_type": "code",
      "metadata": {
        "id": "H-DhY-f4a8xC",
        "colab_type": "code",
        "outputId": "69ab0366-ef58-4848-dc37-512984a4be60",
        "colab": {
          "base_uri": "https://localhost:8080/",
          "height": 292
        }
      },
      "source": [
        "sns.scatterplot(x='height_cm', y='weight_kg', hue='cluster', data=dataset.append(centroid))"
      ],
      "execution_count": 0,
      "outputs": [
        {
          "output_type": "execute_result",
          "data": {
            "text/plain": [
              "<matplotlib.axes._subplots.AxesSubplot at 0x7fb3831f0e48>"
            ]
          },
          "metadata": {
            "tags": []
          },
          "execution_count": 13
        },
        {
          "output_type": "display_data",
          "data": {
            "image/png": "[encoded data removed]",
            "text/plain": [
              "<Figure size 420x280 with 1 Axes>"
            ]
          },
          "metadata": {
            "tags": [],
            "needs_background": "light"
          }
        }
      ]
    },
    {
      "cell_type": "markdown",
      "metadata": {
        "id": "GGUoFBDPBSxd",
        "colab_type": "text"
      },
      "source": [
        "cluster -1 artinya adalah belum masuk ke dalam salah satu cluster (bisa diganti angka lain)"
      ]
    },
    {
      "cell_type": "markdown",
      "metadata": {
        "id": "nIRv8cnEBj_q",
        "colab_type": "text"
      },
      "source": [
        "5. Pembuatan data untuk pergantian centroid"
      ]
    },
    {
      "cell_type": "code",
      "metadata": {
        "id": "XQr2gEcNmD8Z",
        "colab_type": "code",
        "outputId": "a756f70b-d73c-4ad6-ed53-a6f2f035acd8",
        "colab": {
          "base_uri": "https://localhost:8080/",
          "height": 135
        }
      },
      "source": [
        "update = [\n",
        "    [0, 0, '0'],\n",
        "    [0, 0, '1'],\n",
        "    [0, 0, '2'],\n",
        "]\n",
        "\n",
        "# kita buat menjadi dataframe\n",
        "centroidBaru = pd.DataFrame(update, columns=['height_cm', 'weight_kg', 'cluster'])\n",
        "centroidBaru"
      ],
      "execution_count": 0,
      "outputs": [
        {
          "output_type": "execute_result",
          "data": {
            "text/html": [
              "<div>\n",
              "<style scoped>\n",
              "    .dataframe tbody tr th:only-of-type {\n",
              "        vertical-align: middle;\n",
              "    }\n",
              "\n",
              "    .dataframe tbody tr th {\n",
              "        vertical-align: top;\n",
              "    }\n",
              "\n",
              "    .dataframe thead th {\n",
              "        text-align: right;\n",
              "    }\n",
              "</style>\n",
              "<table border=\"1\" class=\"dataframe\">\n",
              "  <thead>\n",
              "    <tr style=\"text-align: right;\">\n",
              "      <th></th>\n",
              "      <th>height_cm</th>\n",
              "      <th>weight_kg</th>\n",
              "      <th>cluster</th>\n",
              "    </tr>\n",
              "  </thead>\n",
              "  <tbody>\n",
              "    <tr>\n",
              "      <th>0</th>\n",
              "      <td>0</td>\n",
              "      <td>0</td>\n",
              "      <td>0</td>\n",
              "    </tr>\n",
              "    <tr>\n",
              "      <th>1</th>\n",
              "      <td>0</td>\n",
              "      <td>0</td>\n",
              "      <td>1</td>\n",
              "    </tr>\n",
              "    <tr>\n",
              "      <th>2</th>\n",
              "      <td>0</td>\n",
              "      <td>0</td>\n",
              "      <td>2</td>\n",
              "    </tr>\n",
              "  </tbody>\n",
              "</table>\n",
              "</div>"
            ],
            "text/plain": [
              "   height_cm  weight_kg cluster\n",
              "0          0          0       0\n",
              "1          0          0       1\n",
              "2          0          0       2"
            ]
          },
          "metadata": {
            "tags": []
          },
          "execution_count": 14
        }
      ]
    },
    {
      "cell_type": "markdown",
      "metadata": {
        "id": "8uhcJQ4UBxfs",
        "colab_type": "text"
      },
      "source": [
        "6. Proses clustering dan perubahan titik centroid (dilakukan hingga posisi titik centroid sudah tidak berpindah lagi)"
      ]
    },
    {
      "cell_type": "code",
      "metadata": {
        "id": "upraKy4UeoY0",
        "colab_type": "code",
        "colab": {}
      },
      "source": [
        "notSame = True\n",
        "j = 1\n",
        "while (notSame is True): #akan melakukan looping selama \"notSame \" bernilai True (titik centroid sudah tidak berubah)\n",
        "    clusterr = []\n",
        "    baru  = []\n",
        "\n",
        "    x02, y02 = centroid.iloc[0][['height_cm', 'weight_kg']] #mengambil titik Centroid ke 0\n",
        "    x12, y12 = centroid.iloc[1][['height_cm', 'weight_kg']] #mengambil titik Centroid ke 1\n",
        "    x22, y22 = centroid.iloc[2][['height_cm', 'weight_kg']] #mengambil titik Centroid ke 2\n",
        "\n",
        "    #mencari centroid terdekat dengan setiap titik\n",
        "    for i in range(len(dataset)):\n",
        "        x1, y1 = dataset.iloc[i][['height_cm', 'weight_kg']] #mengambil titik untuk setiap data pada dataset\n",
        "\n",
        "        # euclidean distant\n",
        "        dist0 = np.sqrt(pow((x02-x1),2) + pow((y02-y1),2))\n",
        "        dist1 = np.sqrt(pow((x12-x1),2) + pow((y12-y1),2))\n",
        "        dist2 = np.sqrt(pow((x22-x1),2) + pow((y22-y1),2))\n",
        "\n",
        "        if (dist0 < dist1) and (dist0 < dist2):\n",
        "            hasil = '0'\n",
        "        elif  (dist1 < dist0) and (dist1 < dist2):\n",
        "            hasil = '1'\n",
        "        elif  (dist2 < dist0) and (dist2 < dist1):\n",
        "            hasil = '2'\n",
        "        clusterr.append(hasil)\n",
        "    \n",
        "    #ganti kolom 'cluster' pada dataset dengan list clusterr tadi\n",
        "    dataset['cluster'] = clusterr \n",
        "    \n",
        "    #Update centroid\n",
        "    x0 = dataset[dataset['cluster'] == '0']['height_cm'].tolist()\n",
        "    y0 = dataset[dataset['cluster'] == '0']['weight_kg'].tolist()\n",
        "    \n",
        "    #menghitung mean untuk nilai baru dari centroid 0\n",
        "    mean_x0 = np.mean(x0)\n",
        "    mean_y0 = np.mean(y0)\n",
        "\n",
        "    x1 = dataset[dataset['cluster'] == '1']['height_cm'].tolist()\n",
        "    y1 = dataset[dataset['cluster'] == '1']['weight_kg'].tolist()\n",
        "    \n",
        "    #menghitung mean untuk nilai baru dari centroid 1\n",
        "    mean_x1 = np.mean(x1)\n",
        "    mean_y1 = np.mean(y1)\n",
        "\n",
        "    x2 = dataset[dataset['cluster'] == '2']['height_cm'].tolist()\n",
        "    y2 = dataset[dataset['cluster'] == '2']['weight_kg'].tolist()\n",
        "    \n",
        "    #menghitung mean untuk nilai baru dari centroid 2\n",
        "    mean_x2 = np.mean(x2)\n",
        "    mean_y2 = np.mean(y2)\n",
        "\n",
        "    #mengganti nilai centroidBaru dengan mean yang sudah dihitung tadi\n",
        "    centroidBaru.iloc[0,0] = mean_x0\n",
        "    centroidBaru.iloc[0,1] = mean_y0\n",
        "    centroidBaru.iloc[1,0] = mean_x1\n",
        "    centroidBaru.iloc[1,1] = mean_y1\n",
        "    centroidBaru.iloc[2,0] = mean_x2\n",
        "    centroidBaru.iloc[2,1] = mean_y2\n",
        "\n",
        "    #cek perubahan titik centroid\n",
        "    if (centroidBaru.iloc[0,:2].all() != centroid.iloc[0,:2].all()):\n",
        "        centroid,centroidBaru = centroidBaru, centroid \n",
        "    else:\n",
        "        notSame = False\n",
        "    # print('ini loop ke ', j)\n",
        "    # j = j+1"
      ],
      "execution_count": 0,
      "outputs": []
    },
    {
      "cell_type": "code",
      "metadata": {
        "id": "8l1Q0l2Cs2rP",
        "colab_type": "code",
        "outputId": "ebb48f80-8d7a-4c9d-8741-838cc62567f6",
        "colab": {
          "base_uri": "https://localhost:8080/",
          "height": 135
        }
      },
      "source": [
        "centroidBaru"
      ],
      "execution_count": 0,
      "outputs": [
        {
          "output_type": "execute_result",
          "data": {
            "text/html": [
              "<div>\n",
              "<style scoped>\n",
              "    .dataframe tbody tr th:only-of-type {\n",
              "        vertical-align: middle;\n",
              "    }\n",
              "\n",
              "    .dataframe tbody tr th {\n",
              "        vertical-align: top;\n",
              "    }\n",
              "\n",
              "    .dataframe thead th {\n",
              "        text-align: right;\n",
              "    }\n",
              "</style>\n",
              "<table border=\"1\" class=\"dataframe\">\n",
              "  <thead>\n",
              "    <tr style=\"text-align: right;\">\n",
              "      <th></th>\n",
              "      <th>height_cm</th>\n",
              "      <th>weight_kg</th>\n",
              "      <th>cluster</th>\n",
              "    </tr>\n",
              "  </thead>\n",
              "  <tbody>\n",
              "    <tr>\n",
              "      <th>0</th>\n",
              "      <td>189.420222</td>\n",
              "      <td>84.156222</td>\n",
              "      <td>0</td>\n",
              "    </tr>\n",
              "    <tr>\n",
              "      <th>1</th>\n",
              "      <td>174.264691</td>\n",
              "      <td>68.189794</td>\n",
              "      <td>1</td>\n",
              "    </tr>\n",
              "    <tr>\n",
              "      <th>2</th>\n",
              "      <td>182.252239</td>\n",
              "      <td>75.677658</td>\n",
              "      <td>2</td>\n",
              "    </tr>\n",
              "  </tbody>\n",
              "</table>\n",
              "</div>"
            ],
            "text/plain": [
              "    height_cm  weight_kg cluster\n",
              "0  189.420222  84.156222       0\n",
              "1  174.264691  68.189794       1\n",
              "2  182.252239  75.677658       2"
            ]
          },
          "metadata": {
            "tags": []
          },
          "execution_count": 16
        }
      ]
    },
    {
      "cell_type": "markdown",
      "metadata": {
        "id": "VW-IgnQOEdxx",
        "colab_type": "text"
      },
      "source": [
        "titik centroidnya sekarang seperti ini"
      ]
    },
    {
      "cell_type": "markdown",
      "metadata": {
        "id": "1BXm2Qf-ErUq",
        "colab_type": "text"
      },
      "source": [
        "7. Hasil Clustering"
      ]
    },
    {
      "cell_type": "code",
      "metadata": {
        "id": "_-YjHCbejtI4",
        "colab_type": "code",
        "outputId": "db96e5f4-f041-4192-fb3a-92c7dfda04b9",
        "colab": {
          "base_uri": "https://localhost:8080/",
          "height": 292
        }
      },
      "source": [
        "sns.scatterplot(x='height_cm', y='weight_kg', hue='cluster', data=dataset)"
      ],
      "execution_count": 0,
      "outputs": [
        {
          "output_type": "execute_result",
          "data": {
            "text/plain": [
              "<matplotlib.axes._subplots.AxesSubplot at 0x7fb383120550>"
            ]
          },
          "metadata": {
            "tags": []
          },
          "execution_count": 17
        },
        {
          "output_type": "display_data",
          "data": {
            "image/png": "[encoded data removed]",
            "text/plain": [
              "<Figure size 420x280 with 1 Axes>"
            ]
          },
          "metadata": {
            "tags": [],
            "needs_background": "light"
          }
        }
      ]
    },
    {
      "cell_type": "markdown",
      "metadata": {
        "id": "GqQUDh8mcA2i",
        "colab_type": "text"
      },
      "source": [
        "## **Evaluasi (SSE)**"
      ]
    },
    {
      "cell_type": "markdown",
      "metadata": {
        "id": "XMptgu_TN1KQ",
        "colab_type": "text"
      },
      "source": [
        "perhitungan SSE dilakukan secara manual dengan menghitung \n",
        "kuadrat jarak dari tiap titik anggota cluster ke centroidnya masing-masing, lalu dijumlahkan. SSE merupakan hasil dari penjumlahan semua cluster"
      ]
    },
    {
      "cell_type": "code",
      "metadata": {
        "id": "17kB2aQSrjZ-",
        "colab_type": "code",
        "outputId": "6a79e4ac-9012-4f10-d380-516fef99b5f8",
        "colab": {
          "base_uri": "https://localhost:8080/",
          "height": 35
        }
      },
      "source": [
        "x02, y02 = centroid.iloc[0][['height_cm', 'weight_kg']] #mengambil titik Centroid ke 0\n",
        "x12, y12 = centroid.iloc[1][['height_cm', 'weight_kg']] #mengambil titik Centroid ke 1\n",
        "x22, y22 = centroid.iloc[2][['height_cm', 'weight_kg']] #mengambil titik Centroid ke 2\n",
        "\n",
        "nol = []\n",
        "one = []\n",
        "dua = []\n",
        "\n",
        "#mengambil titik dari anggota cluster 0\n",
        "x0 = dataset[dataset['cluster'] == '0']['height_cm'].tolist()\n",
        "y0 = dataset[dataset['cluster'] == '0']['weight_kg'].tolist()\n",
        "\n",
        "#menghitung jarak lalu dikuadratkan (akar hilang)\n",
        "for i in range(len(x0)):\n",
        "    dist0 = (pow((x02-x0[i]),2) + pow((y02-y0[i]),2))\n",
        "    nol.append(dist0)\n",
        "\n",
        "#mengambil titik dari anggota cluster 1\n",
        "x1 = dataset[dataset['cluster'] == '1']['height_cm'].tolist()\n",
        "y1 = dataset[dataset['cluster'] == '1']['weight_kg'].tolist()\n",
        "\n",
        "#menghitung jarak lalu dikuadratkan (akar hilang)\n",
        "for j in range(len(x1)):\n",
        "    dist1 = (pow((x12-x1[j]),2) + pow((y12-y1[j]),2))\n",
        "    one.append(dist1)\n",
        "\n",
        "#mengambil titik dari anggota cluster 2            \n",
        "x2 = dataset[dataset['cluster'] == '2']['height_cm'].tolist()\n",
        "y2= dataset[dataset['cluster'] == '2']['weight_kg'].tolist()\n",
        "\n",
        "#menghitung jarak lalu dikuadratkan (akar hilang)\n",
        "for k in range(len(x2)):\n",
        "    dist2 = (pow((x22-x2[k]),2) + pow((y22-y2[k]),2))\n",
        "    dua.append(dist2)\n",
        "\n",
        "c0 = sum(nol)\n",
        "c1 = sum(one)\n",
        "c2 = sum(dua)\n",
        "\n",
        "print('SSE Model Pertama :',c0+c1+c2)"
      ],
      "execution_count": 0,
      "outputs": [
        {
          "output_type": "stream",
          "text": [
            "SSE Model Pertama : 476817.602916542\n"
          ],
          "name": "stdout"
        }
      ]
    }
  ]
}