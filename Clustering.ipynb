{
  "nbformat": 4,
  "nbformat_minor": 0,
  "metadata": {
    "colab": {
      "name": "Clustering.ipynb",
      "provenance": [],
      "authorship_tag": "ABX9TyMfj8aEpe5JcwXgOHaWCCZp",
      "include_colab_link": true
    },
    "kernelspec": {
      "name": "python3",
      "display_name": "Python 3"
    },
    "accelerator": "GPU"
  },
  "cells": [
    {
      "cell_type": "markdown",
      "metadata": {
        "id": "view-in-github",
        "colab_type": "text"
      },
      "source": [
        "<a href=\"https://colab.research.google.com/github/daffamaul30/K-Means/blob/master/Clustering.ipynb\" target=\"_parent\"><img src=\"https://colab.research.google.com/assets/colab-badge.svg\" alt=\"Open In Colab\"/></a>"
      ]
    },
    {
      "cell_type": "code",
      "metadata": {
        "id": "Jn_AB_2lT1Et",
        "colab_type": "code",
        "colab": {}
      },
      "source": [
        "import pandas as pd\n",
        "import numpy as np\n",
        "import seaborn as sns\n",
        "import matplotlib.pyplot as plt\n",
        "import plotly.express as px"
      ],
      "execution_count": 0,
      "outputs": []
    },
    {
      "cell_type": "markdown",
      "metadata": {
        "id": "L9bkORT1_kWA",
        "colab_type": "text"
      },
      "source": [
        "## Mengambil data di drive\n",
        "bisa dirubah dengan tidak menggunakan drive"
      ]
    },
    {
      "cell_type": "code",
      "metadata": {
        "id": "AHHT1KAtUCIm",
        "colab_type": "code",
        "colab": {}
      },
      "source": [
        "from google.colab import drive #mount drive\n",
        "drive.mount('/content/gdrive')\n",
        "path = 'gdrive/My Drive/Colab Notebooks/fifa20.csv'\n",
        "dataset = pd.read_csv(path)"
      ],
      "execution_count": 0,
      "outputs": []
    },
    {
      "cell_type": "code",
      "metadata": {
        "id": "SgMDF0NRA5J_",
        "colab_type": "code",
        "colab": {}
      },
      "source": [
        "\n",
        "dataset = dataset[['age','overall']]"
      ],
      "execution_count": 0,
      "outputs": []
    },
    {
      "cell_type": "code",
      "metadata": {
        "id": "DIGC9F42UKwb",
        "colab_type": "code",
        "outputId": "da2f639f-62a9-445d-a0d2-e131e483122f",
        "colab": {
          "base_uri": "https://localhost:8080/",
          "height": 195
        }
      },
      "source": [
        "dataset.head()"
      ],
      "execution_count": 4,
      "outputs": [
        {
          "output_type": "execute_result",
          "data": {
            "text/html": [
              "<div>\n",
              "<style scoped>\n",
              "    .dataframe tbody tr th:only-of-type {\n",
              "        vertical-align: middle;\n",
              "    }\n",
              "\n",
              "    .dataframe tbody tr th {\n",
              "        vertical-align: top;\n",
              "    }\n",
              "\n",
              "    .dataframe thead th {\n",
              "        text-align: right;\n",
              "    }\n",
              "</style>\n",
              "<table border=\"1\" class=\"dataframe\">\n",
              "  <thead>\n",
              "    <tr style=\"text-align: right;\">\n",
              "      <th></th>\n",
              "      <th>age</th>\n",
              "      <th>overall</th>\n",
              "    </tr>\n",
              "  </thead>\n",
              "  <tbody>\n",
              "    <tr>\n",
              "      <th>0</th>\n",
              "      <td>32</td>\n",
              "      <td>94</td>\n",
              "    </tr>\n",
              "    <tr>\n",
              "      <th>1</th>\n",
              "      <td>34</td>\n",
              "      <td>93</td>\n",
              "    </tr>\n",
              "    <tr>\n",
              "      <th>2</th>\n",
              "      <td>27</td>\n",
              "      <td>92</td>\n",
              "    </tr>\n",
              "    <tr>\n",
              "      <th>3</th>\n",
              "      <td>26</td>\n",
              "      <td>91</td>\n",
              "    </tr>\n",
              "    <tr>\n",
              "      <th>4</th>\n",
              "      <td>28</td>\n",
              "      <td>91</td>\n",
              "    </tr>\n",
              "  </tbody>\n",
              "</table>\n",
              "</div>"
            ],
            "text/plain": [
              "   age  overall\n",
              "0   32       94\n",
              "1   34       93\n",
              "2   27       92\n",
              "3   26       91\n",
              "4   28       91"
            ]
          },
          "metadata": {
            "tags": []
          },
          "execution_count": 4
        }
      ]
    },
    {
      "cell_type": "code",
      "metadata": {
        "id": "Elv4MmCBUp0Y",
        "colab_type": "code",
        "outputId": "3326caf4-3626-4cf9-e4c3-f7fa203c56d9",
        "colab": {
          "base_uri": "https://localhost:8080/",
          "height": 284
        }
      },
      "source": [
        "dataset.describe()"
      ],
      "execution_count": 5,
      "outputs": [
        {
          "output_type": "execute_result",
          "data": {
            "text/html": [
              "<div>\n",
              "<style scoped>\n",
              "    .dataframe tbody tr th:only-of-type {\n",
              "        vertical-align: middle;\n",
              "    }\n",
              "\n",
              "    .dataframe tbody tr th {\n",
              "        vertical-align: top;\n",
              "    }\n",
              "\n",
              "    .dataframe thead th {\n",
              "        text-align: right;\n",
              "    }\n",
              "</style>\n",
              "<table border=\"1\" class=\"dataframe\">\n",
              "  <thead>\n",
              "    <tr style=\"text-align: right;\">\n",
              "      <th></th>\n",
              "      <th>age</th>\n",
              "      <th>overall</th>\n",
              "    </tr>\n",
              "  </thead>\n",
              "  <tbody>\n",
              "    <tr>\n",
              "      <th>count</th>\n",
              "      <td>18278.000000</td>\n",
              "      <td>18278.000000</td>\n",
              "    </tr>\n",
              "    <tr>\n",
              "      <th>mean</th>\n",
              "      <td>25.283291</td>\n",
              "      <td>66.244994</td>\n",
              "    </tr>\n",
              "    <tr>\n",
              "      <th>std</th>\n",
              "      <td>4.656964</td>\n",
              "      <td>6.949953</td>\n",
              "    </tr>\n",
              "    <tr>\n",
              "      <th>min</th>\n",
              "      <td>16.000000</td>\n",
              "      <td>48.000000</td>\n",
              "    </tr>\n",
              "    <tr>\n",
              "      <th>25%</th>\n",
              "      <td>22.000000</td>\n",
              "      <td>62.000000</td>\n",
              "    </tr>\n",
              "    <tr>\n",
              "      <th>50%</th>\n",
              "      <td>25.000000</td>\n",
              "      <td>66.000000</td>\n",
              "    </tr>\n",
              "    <tr>\n",
              "      <th>75%</th>\n",
              "      <td>29.000000</td>\n",
              "      <td>71.000000</td>\n",
              "    </tr>\n",
              "    <tr>\n",
              "      <th>max</th>\n",
              "      <td>42.000000</td>\n",
              "      <td>94.000000</td>\n",
              "    </tr>\n",
              "  </tbody>\n",
              "</table>\n",
              "</div>"
            ],
            "text/plain": [
              "                age       overall\n",
              "count  18278.000000  18278.000000\n",
              "mean      25.283291     66.244994\n",
              "std        4.656964      6.949953\n",
              "min       16.000000     48.000000\n",
              "25%       22.000000     62.000000\n",
              "50%       25.000000     66.000000\n",
              "75%       29.000000     71.000000\n",
              "max       42.000000     94.000000"
            ]
          },
          "metadata": {
            "tags": []
          },
          "execution_count": 5
        }
      ]
    },
    {
      "cell_type": "code",
      "metadata": {
        "id": "0O1vx2JOUryi",
        "colab_type": "code",
        "outputId": "0f87397f-2717-4225-e0a9-2284452ef0df",
        "colab": {
          "base_uri": "https://localhost:8080/",
          "height": 175
        }
      },
      "source": [
        "dataset.info()"
      ],
      "execution_count": 6,
      "outputs": [
        {
          "output_type": "stream",
          "text": [
            "<class 'pandas.core.frame.DataFrame'>\n",
            "RangeIndex: 18278 entries, 0 to 18277\n",
            "Data columns (total 2 columns):\n",
            " #   Column   Non-Null Count  Dtype\n",
            "---  ------   --------------  -----\n",
            " 0   age      18278 non-null  int64\n",
            " 1   overall  18278 non-null  int64\n",
            "dtypes: int64(2)\n",
            "memory usage: 285.7 KB\n"
          ],
          "name": "stdout"
        }
      ]
    },
    {
      "cell_type": "code",
      "metadata": {
        "id": "nAyppId3U20G",
        "colab_type": "code",
        "outputId": "aaed6538-8584-4a51-bbab-3cde139e0b83",
        "colab": {
          "base_uri": "https://localhost:8080/",
          "height": 297
        }
      },
      "source": [
        "sns.scatterplot(x='age', y='overall', data=dataset)"
      ],
      "execution_count": 7,
      "outputs": [
        {
          "output_type": "execute_result",
          "data": {
            "text/plain": [
              "<matplotlib.axes._subplots.AxesSubplot at 0x7efeb98cc3c8>"
            ]
          },
          "metadata": {
            "tags": []
          },
          "execution_count": 7
        },
        {
          "output_type": "display_data",
          "data": {
            "image/png": "[encoded data removed]",
            "text/plain": [
              "<Figure size 432x288 with 1 Axes>"
            ]
          },
          "metadata": {
            "tags": []
          }
        }
      ]
    },
    {
      "cell_type": "markdown",
      "metadata": {
        "id": "hG7uemceBAb7",
        "colab_type": "text"
      },
      "source": [
        "## Pembuatan centroid dengan K = 3"
      ]
    },
    {
      "cell_type": "code",
      "metadata": {
        "id": "89o4_W6WZ4KK",
        "colab_type": "code",
        "outputId": "78271ec3-554e-4b8b-969f-0b0b5a74f3ae",
        "colab": {
          "base_uri": "https://localhost:8080/",
          "height": 136
        }
      },
      "source": [
        "centro = [\n",
        "    [0, 0, '0'],\n",
        "    [0, 0, '1'],\n",
        "    [0, 0, '2'],\n",
        "]\n",
        "# kita buat menjadi dataframe\n",
        "centroid = pd.DataFrame(centro, columns=['age', 'overall', 'cluster'])\n",
        "\n",
        "age = []\n",
        "overall = []\n",
        "x0 = np.random.randint(min(dataset['age']),max(dataset['age']))\n",
        "y0 = np.random.randint(min(dataset['overall']),max(dataset['overall']))\n",
        "x1 = np.random.randint(min(dataset['age']),max(dataset['age']))\n",
        "y1 = np.random.randint(min(dataset['overall']),max(dataset['overall']))\n",
        "x2 = np.random.randint(min(dataset['age']),max(dataset['age']))\n",
        "y2 = np.random.randint(min(dataset['overall']),max(dataset['overall']))\n",
        "\n",
        "age.append(x0)\n",
        "age.append(x1)\n",
        "age.append(x2)\n",
        "overall.append(y0)\n",
        "overall.append(y1)\n",
        "overall.append(y2)\n",
        "\n",
        "centroid['age'] = age\n",
        "centroid['overall'] = overall\n",
        "centroid"
      ],
      "execution_count": 8,
      "outputs": [
        {
          "output_type": "execute_result",
          "data": {
            "text/html": [
              "<div>\n",
              "<style scoped>\n",
              "    .dataframe tbody tr th:only-of-type {\n",
              "        vertical-align: middle;\n",
              "    }\n",
              "\n",
              "    .dataframe tbody tr th {\n",
              "        vertical-align: top;\n",
              "    }\n",
              "\n",
              "    .dataframe thead th {\n",
              "        text-align: right;\n",
              "    }\n",
              "</style>\n",
              "<table border=\"1\" class=\"dataframe\">\n",
              "  <thead>\n",
              "    <tr style=\"text-align: right;\">\n",
              "      <th></th>\n",
              "      <th>age</th>\n",
              "      <th>overall</th>\n",
              "      <th>cluster</th>\n",
              "    </tr>\n",
              "  </thead>\n",
              "  <tbody>\n",
              "    <tr>\n",
              "      <th>0</th>\n",
              "      <td>32</td>\n",
              "      <td>64</td>\n",
              "      <td>0</td>\n",
              "    </tr>\n",
              "    <tr>\n",
              "      <th>1</th>\n",
              "      <td>16</td>\n",
              "      <td>83</td>\n",
              "      <td>1</td>\n",
              "    </tr>\n",
              "    <tr>\n",
              "      <th>2</th>\n",
              "      <td>35</td>\n",
              "      <td>70</td>\n",
              "      <td>2</td>\n",
              "    </tr>\n",
              "  </tbody>\n",
              "</table>\n",
              "</div>"
            ],
            "text/plain": [
              "   age  overall cluster\n",
              "0   32       64       0\n",
              "1   16       83       1\n",
              "2   35       70       2"
            ]
          },
          "metadata": {
            "tags": []
          },
          "execution_count": 8
        }
      ]
    },
    {
      "cell_type": "markdown",
      "metadata": {
        "id": "I3wLrrVj8VV5",
        "colab_type": "text"
      },
      "source": [
        "penentuan centroid awal mempengaruhi hasil akhir clustering"
      ]
    },
    {
      "cell_type": "markdown",
      "metadata": {
        "id": "xVACvErPBFxS",
        "colab_type": "text"
      },
      "source": [
        "## Memasukkan centroid sesuai titiknya"
      ]
    },
    {
      "cell_type": "code",
      "metadata": {
        "id": "H-DhY-f4a8xC",
        "colab_type": "code",
        "outputId": "065db55c-fb5c-45ca-a2ac-b791c64ef119",
        "colab": {
          "base_uri": "https://localhost:8080/",
          "height": 297
        }
      },
      "source": [
        "sns.scatterplot(x='age', y='overall', hue='cluster', data=dataset.append(centroid))"
      ],
      "execution_count": 9,
      "outputs": [
        {
          "output_type": "execute_result",
          "data": {
            "text/plain": [
              "<matplotlib.axes._subplots.AxesSubplot at 0x7efeb9c43c88>"
            ]
          },
          "metadata": {
            "tags": []
          },
          "execution_count": 9
        },
        {
          "output_type": "display_data",
          "data": {
            "image/png": "[encoded data removed]",
            "text/plain": [
              "<Figure size 432x288 with 1 Axes>"
            ]
          },
          "metadata": {
            "tags": []
          }
        }
      ]
    },
    {
      "cell_type": "markdown",
      "metadata": {
        "id": "GGUoFBDPBSxd",
        "colab_type": "text"
      },
      "source": [
        "cluster -1 artinya adalah belum masuk ke dalam salah satu cluster (bisa diganti angka lain)"
      ]
    },
    {
      "cell_type": "markdown",
      "metadata": {
        "id": "nIRv8cnEBj_q",
        "colab_type": "text"
      },
      "source": [
        "## Pembuatan data untuk pergantian centroid"
      ]
    },
    {
      "cell_type": "code",
      "metadata": {
        "id": "XQr2gEcNmD8Z",
        "colab_type": "code",
        "outputId": "dc4e0267-56de-49de-a7b4-fead279e42e3",
        "colab": {
          "base_uri": "https://localhost:8080/",
          "height": 136
        }
      },
      "source": [
        "update = [\n",
        "    [0, 0, '0'],\n",
        "    [0, 0, '1'],\n",
        "    [0, 0, '2'],\n",
        "]\n",
        "\n",
        "# kita buat menjadi dataframe\n",
        "centroidBaru = pd.DataFrame(update, columns=['age', 'overall', 'cluster'])\n",
        "centroidBaru"
      ],
      "execution_count": 10,
      "outputs": [
        {
          "output_type": "execute_result",
          "data": {
            "text/html": [
              "<div>\n",
              "<style scoped>\n",
              "    .dataframe tbody tr th:only-of-type {\n",
              "        vertical-align: middle;\n",
              "    }\n",
              "\n",
              "    .dataframe tbody tr th {\n",
              "        vertical-align: top;\n",
              "    }\n",
              "\n",
              "    .dataframe thead th {\n",
              "        text-align: right;\n",
              "    }\n",
              "</style>\n",
              "<table border=\"1\" class=\"dataframe\">\n",
              "  <thead>\n",
              "    <tr style=\"text-align: right;\">\n",
              "      <th></th>\n",
              "      <th>age</th>\n",
              "      <th>overall</th>\n",
              "      <th>cluster</th>\n",
              "    </tr>\n",
              "  </thead>\n",
              "  <tbody>\n",
              "    <tr>\n",
              "      <th>0</th>\n",
              "      <td>0</td>\n",
              "      <td>0</td>\n",
              "      <td>0</td>\n",
              "    </tr>\n",
              "    <tr>\n",
              "      <th>1</th>\n",
              "      <td>0</td>\n",
              "      <td>0</td>\n",
              "      <td>1</td>\n",
              "    </tr>\n",
              "    <tr>\n",
              "      <th>2</th>\n",
              "      <td>0</td>\n",
              "      <td>0</td>\n",
              "      <td>2</td>\n",
              "    </tr>\n",
              "  </tbody>\n",
              "</table>\n",
              "</div>"
            ],
            "text/plain": [
              "   age  overall cluster\n",
              "0    0        0       0\n",
              "1    0        0       1\n",
              "2    0        0       2"
            ]
          },
          "metadata": {
            "tags": []
          },
          "execution_count": 10
        }
      ]
    },
    {
      "cell_type": "markdown",
      "metadata": {
        "id": "8uhcJQ4UBxfs",
        "colab_type": "text"
      },
      "source": [
        "## Proses clustering dan perubahan titik centroid\n",
        "dilakukan hingga posisi titik centroid sudah tidak berpindah lagi"
      ]
    },
    {
      "cell_type": "code",
      "metadata": {
        "id": "upraKy4UeoY0",
        "colab_type": "code",
        "colab": {}
      },
      "source": [
        "notSame = True\n",
        "j = 1\n",
        "while (notSame is True): #akan melakukan looping selama \"notSame \" bernilai True (titik centroid sudah tidak berubah)\n",
        "    clusterr = []\n",
        "    baru  = []\n",
        "\n",
        "    x02, y02 = centroid.iloc[0][['age', 'overall']] #mengambil titik Centroid ke 0\n",
        "    x12, y12 = centroid.iloc[1][['age', 'overall']] #mengambil titik Centroid ke 1\n",
        "    x22, y22 = centroid.iloc[2][['age', 'overall']] #mengambil titik Centroid ke 2\n",
        "\n",
        "    #mencari centroid terdekat dengan setiap titik\n",
        "    for i in range(len(dataset)):\n",
        "        x1, y1 = dataset.iloc[i][['age', 'overall']] #mengambil titik untuk setiap data pada dataset\n",
        "\n",
        "        # euclidean distant\n",
        "        dist0 = ((x02-x1)**2 + (y02-y1)**2)**0.5 \n",
        "        dist1 = ((x12-x1)**2 + (y12-y1)**2)**0.5\n",
        "        dist2 = ((x22-x1)**2 + (y22-y1)**2)**0.5\n",
        "\n",
        "        if (dist0 < dist1) and (dist0 < dist2): #jika nilai dist0 paling kecil, cluster = 0\n",
        "            hasil = '0'\n",
        "        elif  (dist1 < dist0) and (dist1 < dist2): #jika nilai dist1 paling kecil, cluster = 1\n",
        "            hasil = '1'\n",
        "        elif  (dist2 < dist0) and (dist2 < dist1): #jika nilai dist2 paling kecil, cluster = 2\n",
        "            hasil = '2'\n",
        "        clusterr.append(hasil) #append hadil cluster tadi ke list clusterr\n",
        "\n",
        "    dataset['cluster'] = clusterr #ganti kolom 'cluster' pada dataset dengan list clusterr tadi\n",
        "    \n",
        "    #Update centroid\n",
        "    x0 = dataset[dataset['cluster'] == '0']['age'].tolist() #mengambil semua nilai pada kolom 'age' yang cluster nya 0\n",
        "    y0 = dataset[dataset['cluster'] == '0']['overall'].tolist() #mengambil semua nilai pada kolom 'overall' yang cluster nya 0\n",
        "    \n",
        "    #menghitung mean untuk nilai baru dari centroid 0\n",
        "    mean_x0 = sum(x0) / len(x0) \n",
        "    mean_y0 = sum(y0) / len(y0)\n",
        "\n",
        "    x1 = dataset[dataset['cluster'] == '1']['age'].tolist() #mengambil semua nilai pada kolom 'age' yang cluster nya 1\n",
        "    y1 = dataset[dataset['cluster'] == '1']['overall'].tolist() #mengambil semua nilai pada kolom 'overall' yang cluster nya 1\n",
        "    \n",
        "    #menghitung mean untuk nilai baru dari centroid 1\n",
        "    mean_x1 = sum(x1) / len(x1)\n",
        "    mean_y1 = sum(y1) / len(y1)\n",
        "\n",
        "    x2 = dataset[dataset['cluster'] == '2']['age'].tolist() #mengambil semua nilai pada kolom 'age' yang cluster nya 2\n",
        "    y2 = dataset[dataset['cluster'] == '2']['overall'].tolist() #mengambil semua nilai pada kolom 'overall' yang cluster nya 2\n",
        "    \n",
        "    #menghitung mean untuk nilai baru dari centroid 2\n",
        "    mean_x2 = sum(x2) / len(x2)\n",
        "    mean_y2 = sum(y2) / len(y2)\n",
        "\n",
        "    #mengganti nilai centroidBaru dengan mean yang sudah dihitung tadi\n",
        "    centroidBaru.iloc[0,0] = mean_x0\n",
        "    centroidBaru.iloc[0,1] = mean_y0\n",
        "    centroidBaru.iloc[1,0] = mean_x1\n",
        "    centroidBaru.iloc[1,1] = mean_y1\n",
        "    centroidBaru.iloc[2,0] = mean_x2\n",
        "    centroidBaru.iloc[2,1] = mean_y2\n",
        "\n",
        "    if (centroidBaru.iloc[0,:2].all() != centroid.iloc[0,:2].all()): #jika kolom age dan overall pada centroidBaru dan centroid beda (centroid berpindah)\n",
        "        #mengganti nilai centroid dengan centroidBaru dan mengganti nilai centroidBaru (disini saya hanya menukar nilai centroid dan centroidBaru)\n",
        "        centroid,centroidBaru = centroidBaru, centroid \n",
        "    else: #jika centroid dan centroidBaru sama (centroid tidak berpindah)\n",
        "        notSame = False #notSame berubah jadi False agar loop berhenti\n",
        "    # print('ini loop ke ', j)\n",
        "    # j = j+1"
      ],
      "execution_count": 0,
      "outputs": []
    },
    {
      "cell_type": "code",
      "metadata": {
        "id": "8l1Q0l2Cs2rP",
        "colab_type": "code",
        "outputId": "0b1dd258-5ab4-46d3-fc79-fe5931eaba53",
        "colab": {
          "base_uri": "https://localhost:8080/",
          "height": 136
        }
      },
      "source": [
        "centroidBaru"
      ],
      "execution_count": 12,
      "outputs": [
        {
          "output_type": "execute_result",
          "data": {
            "text/html": [
              "<div>\n",
              "<style scoped>\n",
              "    .dataframe tbody tr th:only-of-type {\n",
              "        vertical-align: middle;\n",
              "    }\n",
              "\n",
              "    .dataframe tbody tr th {\n",
              "        vertical-align: top;\n",
              "    }\n",
              "\n",
              "    .dataframe thead th {\n",
              "        text-align: right;\n",
              "    }\n",
              "</style>\n",
              "<table border=\"1\" class=\"dataframe\">\n",
              "  <thead>\n",
              "    <tr style=\"text-align: right;\">\n",
              "      <th></th>\n",
              "      <th>age</th>\n",
              "      <th>overall</th>\n",
              "      <th>cluster</th>\n",
              "    </tr>\n",
              "  </thead>\n",
              "  <tbody>\n",
              "    <tr>\n",
              "      <th>0</th>\n",
              "      <td>21.181562</td>\n",
              "      <td>59.772195</td>\n",
              "      <td>0</td>\n",
              "    </tr>\n",
              "    <tr>\n",
              "      <th>1</th>\n",
              "      <td>26.885849</td>\n",
              "      <td>75.149137</td>\n",
              "      <td>1</td>\n",
              "    </tr>\n",
              "    <tr>\n",
              "      <th>2</th>\n",
              "      <td>28.186086</td>\n",
              "      <td>66.806137</td>\n",
              "      <td>2</td>\n",
              "    </tr>\n",
              "  </tbody>\n",
              "</table>\n",
              "</div>"
            ],
            "text/plain": [
              "         age    overall cluster\n",
              "0  21.181562  59.772195       0\n",
              "1  26.885849  75.149137       1\n",
              "2  28.186086  66.806137       2"
            ]
          },
          "metadata": {
            "tags": []
          },
          "execution_count": 12
        }
      ]
    },
    {
      "cell_type": "markdown",
      "metadata": {
        "id": "VW-IgnQOEdxx",
        "colab_type": "text"
      },
      "source": [
        "titik centroidnya sekarang seperti ini"
      ]
    },
    {
      "cell_type": "markdown",
      "metadata": {
        "id": "1BXm2Qf-ErUq",
        "colab_type": "text"
      },
      "source": [
        "## Hasil Clustering"
      ]
    },
    {
      "cell_type": "code",
      "metadata": {
        "id": "_-YjHCbejtI4",
        "colab_type": "code",
        "outputId": "954833c2-2395-4ae3-e203-5d503a6254c0",
        "colab": {
          "base_uri": "https://localhost:8080/",
          "height": 297
        }
      },
      "source": [
        "sns.scatterplot(x='age', y='overall', hue='cluster', data=dataset.append(centroid))"
      ],
      "execution_count": 13,
      "outputs": [
        {
          "output_type": "execute_result",
          "data": {
            "text/plain": [
              "<matplotlib.axes._subplots.AxesSubplot at 0x7efeb9a2c0b8>"
            ]
          },
          "metadata": {
            "tags": []
          },
          "execution_count": 13
        },
        {
          "output_type": "display_data",
          "data": {
            "image/png": "[encoded data removed]",
            "text/plain": [
              "<Figure size 432x288 with 1 Axes>"
            ]
          },
          "metadata": {
            "tags": []
          }
        }
      ]
    }
  ]
}